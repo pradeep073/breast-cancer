{
  "nbformat": 4,
  "nbformat_minor": 0,
  "metadata": {
    "colab": {
      "name": "Breast Cancer Model.ipynb",
      "provenance": []
    },
    "kernelspec": {
      "name": "python3",
      "display_name": "Python 3"
    },
    "language_info": {
      "name": "python"
    }
  },
  "cells": [
    {
      "cell_type": "code",
      "metadata": {
        "id": "PMq_d_UbL4tj"
      },
      "source": [
        "from sklearn.datasets import load_breast_cancer\n",
        "import pandas as pd\n",
        "import numpy as np"
      ],
      "execution_count": null,
      "outputs": []
    },
    {
      "cell_type": "code",
      "metadata": {
        "id": "GceztXElMrzy"
      },
      "source": [
        "data_dict = load_breast_cancer()"
      ],
      "execution_count": null,
      "outputs": []
    },
    {
      "cell_type": "code",
      "metadata": {
        "colab": {
          "base_uri": "https://localhost:8080/"
        },
        "id": "k0vjcEobNCcK",
        "outputId": "6ce0cc48-59c4-4ea2-8a92-857695b600c1"
      },
      "source": [
        "data_dict.keys()"
      ],
      "execution_count": null,
      "outputs": [
        {
          "output_type": "execute_result",
          "data": {
            "text/plain": [
              "dict_keys(['data', 'target', 'target_names', 'DESCR', 'feature_names', 'filename'])"
            ]
          },
          "metadata": {
            "tags": []
          },
          "execution_count": 3
        }
      ]
    },
    {
      "cell_type": "code",
      "metadata": {
        "colab": {
          "base_uri": "https://localhost:8080/",
          "height": 261
        },
        "id": "3UQsEsjDNFXH",
        "outputId": "dabd8c68-c6c9-4688-b36f-5f319efa90be"
      },
      "source": [
        "data = pd.DataFrame(data_dict['data'],columns= data_dict['feature_names'])\n",
        "data['cancer_type'] = data_dict['target']\n",
        "data.head()"
      ],
      "execution_count": null,
      "outputs": [
        {
          "output_type": "execute_result",
          "data": {
            "text/html": [
              "<div>\n",
              "<style scoped>\n",
              "    .dataframe tbody tr th:only-of-type {\n",
              "        vertical-align: middle;\n",
              "    }\n",
              "\n",
              "    .dataframe tbody tr th {\n",
              "        vertical-align: top;\n",
              "    }\n",
              "\n",
              "    .dataframe thead th {\n",
              "        text-align: right;\n",
              "    }\n",
              "</style>\n",
              "<table border=\"1\" class=\"dataframe\">\n",
              "  <thead>\n",
              "    <tr style=\"text-align: right;\">\n",
              "      <th></th>\n",
              "      <th>mean radius</th>\n",
              "      <th>mean texture</th>\n",
              "      <th>mean perimeter</th>\n",
              "      <th>mean area</th>\n",
              "      <th>mean smoothness</th>\n",
              "      <th>mean compactness</th>\n",
              "      <th>mean concavity</th>\n",
              "      <th>mean concave points</th>\n",
              "      <th>mean symmetry</th>\n",
              "      <th>mean fractal dimension</th>\n",
              "      <th>radius error</th>\n",
              "      <th>texture error</th>\n",
              "      <th>perimeter error</th>\n",
              "      <th>area error</th>\n",
              "      <th>smoothness error</th>\n",
              "      <th>compactness error</th>\n",
              "      <th>concavity error</th>\n",
              "      <th>concave points error</th>\n",
              "      <th>symmetry error</th>\n",
              "      <th>fractal dimension error</th>\n",
              "      <th>worst radius</th>\n",
              "      <th>worst texture</th>\n",
              "      <th>worst perimeter</th>\n",
              "      <th>worst area</th>\n",
              "      <th>worst smoothness</th>\n",
              "      <th>worst compactness</th>\n",
              "      <th>worst concavity</th>\n",
              "      <th>worst concave points</th>\n",
              "      <th>worst symmetry</th>\n",
              "      <th>worst fractal dimension</th>\n",
              "      <th>cancer_type</th>\n",
              "    </tr>\n",
              "  </thead>\n",
              "  <tbody>\n",
              "    <tr>\n",
              "      <th>0</th>\n",
              "      <td>17.99</td>\n",
              "      <td>10.38</td>\n",
              "      <td>122.80</td>\n",
              "      <td>1001.0</td>\n",
              "      <td>0.11840</td>\n",
              "      <td>0.27760</td>\n",
              "      <td>0.3001</td>\n",
              "      <td>0.14710</td>\n",
              "      <td>0.2419</td>\n",
              "      <td>0.07871</td>\n",
              "      <td>1.0950</td>\n",
              "      <td>0.9053</td>\n",
              "      <td>8.589</td>\n",
              "      <td>153.40</td>\n",
              "      <td>0.006399</td>\n",
              "      <td>0.04904</td>\n",
              "      <td>0.05373</td>\n",
              "      <td>0.01587</td>\n",
              "      <td>0.03003</td>\n",
              "      <td>0.006193</td>\n",
              "      <td>25.38</td>\n",
              "      <td>17.33</td>\n",
              "      <td>184.60</td>\n",
              "      <td>2019.0</td>\n",
              "      <td>0.1622</td>\n",
              "      <td>0.6656</td>\n",
              "      <td>0.7119</td>\n",
              "      <td>0.2654</td>\n",
              "      <td>0.4601</td>\n",
              "      <td>0.11890</td>\n",
              "      <td>0</td>\n",
              "    </tr>\n",
              "    <tr>\n",
              "      <th>1</th>\n",
              "      <td>20.57</td>\n",
              "      <td>17.77</td>\n",
              "      <td>132.90</td>\n",
              "      <td>1326.0</td>\n",
              "      <td>0.08474</td>\n",
              "      <td>0.07864</td>\n",
              "      <td>0.0869</td>\n",
              "      <td>0.07017</td>\n",
              "      <td>0.1812</td>\n",
              "      <td>0.05667</td>\n",
              "      <td>0.5435</td>\n",
              "      <td>0.7339</td>\n",
              "      <td>3.398</td>\n",
              "      <td>74.08</td>\n",
              "      <td>0.005225</td>\n",
              "      <td>0.01308</td>\n",
              "      <td>0.01860</td>\n",
              "      <td>0.01340</td>\n",
              "      <td>0.01389</td>\n",
              "      <td>0.003532</td>\n",
              "      <td>24.99</td>\n",
              "      <td>23.41</td>\n",
              "      <td>158.80</td>\n",
              "      <td>1956.0</td>\n",
              "      <td>0.1238</td>\n",
              "      <td>0.1866</td>\n",
              "      <td>0.2416</td>\n",
              "      <td>0.1860</td>\n",
              "      <td>0.2750</td>\n",
              "      <td>0.08902</td>\n",
              "      <td>0</td>\n",
              "    </tr>\n",
              "    <tr>\n",
              "      <th>2</th>\n",
              "      <td>19.69</td>\n",
              "      <td>21.25</td>\n",
              "      <td>130.00</td>\n",
              "      <td>1203.0</td>\n",
              "      <td>0.10960</td>\n",
              "      <td>0.15990</td>\n",
              "      <td>0.1974</td>\n",
              "      <td>0.12790</td>\n",
              "      <td>0.2069</td>\n",
              "      <td>0.05999</td>\n",
              "      <td>0.7456</td>\n",
              "      <td>0.7869</td>\n",
              "      <td>4.585</td>\n",
              "      <td>94.03</td>\n",
              "      <td>0.006150</td>\n",
              "      <td>0.04006</td>\n",
              "      <td>0.03832</td>\n",
              "      <td>0.02058</td>\n",
              "      <td>0.02250</td>\n",
              "      <td>0.004571</td>\n",
              "      <td>23.57</td>\n",
              "      <td>25.53</td>\n",
              "      <td>152.50</td>\n",
              "      <td>1709.0</td>\n",
              "      <td>0.1444</td>\n",
              "      <td>0.4245</td>\n",
              "      <td>0.4504</td>\n",
              "      <td>0.2430</td>\n",
              "      <td>0.3613</td>\n",
              "      <td>0.08758</td>\n",
              "      <td>0</td>\n",
              "    </tr>\n",
              "    <tr>\n",
              "      <th>3</th>\n",
              "      <td>11.42</td>\n",
              "      <td>20.38</td>\n",
              "      <td>77.58</td>\n",
              "      <td>386.1</td>\n",
              "      <td>0.14250</td>\n",
              "      <td>0.28390</td>\n",
              "      <td>0.2414</td>\n",
              "      <td>0.10520</td>\n",
              "      <td>0.2597</td>\n",
              "      <td>0.09744</td>\n",
              "      <td>0.4956</td>\n",
              "      <td>1.1560</td>\n",
              "      <td>3.445</td>\n",
              "      <td>27.23</td>\n",
              "      <td>0.009110</td>\n",
              "      <td>0.07458</td>\n",
              "      <td>0.05661</td>\n",
              "      <td>0.01867</td>\n",
              "      <td>0.05963</td>\n",
              "      <td>0.009208</td>\n",
              "      <td>14.91</td>\n",
              "      <td>26.50</td>\n",
              "      <td>98.87</td>\n",
              "      <td>567.7</td>\n",
              "      <td>0.2098</td>\n",
              "      <td>0.8663</td>\n",
              "      <td>0.6869</td>\n",
              "      <td>0.2575</td>\n",
              "      <td>0.6638</td>\n",
              "      <td>0.17300</td>\n",
              "      <td>0</td>\n",
              "    </tr>\n",
              "    <tr>\n",
              "      <th>4</th>\n",
              "      <td>20.29</td>\n",
              "      <td>14.34</td>\n",
              "      <td>135.10</td>\n",
              "      <td>1297.0</td>\n",
              "      <td>0.10030</td>\n",
              "      <td>0.13280</td>\n",
              "      <td>0.1980</td>\n",
              "      <td>0.10430</td>\n",
              "      <td>0.1809</td>\n",
              "      <td>0.05883</td>\n",
              "      <td>0.7572</td>\n",
              "      <td>0.7813</td>\n",
              "      <td>5.438</td>\n",
              "      <td>94.44</td>\n",
              "      <td>0.011490</td>\n",
              "      <td>0.02461</td>\n",
              "      <td>0.05688</td>\n",
              "      <td>0.01885</td>\n",
              "      <td>0.01756</td>\n",
              "      <td>0.005115</td>\n",
              "      <td>22.54</td>\n",
              "      <td>16.67</td>\n",
              "      <td>152.20</td>\n",
              "      <td>1575.0</td>\n",
              "      <td>0.1374</td>\n",
              "      <td>0.2050</td>\n",
              "      <td>0.4000</td>\n",
              "      <td>0.1625</td>\n",
              "      <td>0.2364</td>\n",
              "      <td>0.07678</td>\n",
              "      <td>0</td>\n",
              "    </tr>\n",
              "  </tbody>\n",
              "</table>\n",
              "</div>"
            ],
            "text/plain": [
              "   mean radius  mean texture  ...  worst fractal dimension  cancer_type\n",
              "0        17.99         10.38  ...                  0.11890            0\n",
              "1        20.57         17.77  ...                  0.08902            0\n",
              "2        19.69         21.25  ...                  0.08758            0\n",
              "3        11.42         20.38  ...                  0.17300            0\n",
              "4        20.29         14.34  ...                  0.07678            0\n",
              "\n",
              "[5 rows x 31 columns]"
            ]
          },
          "metadata": {
            "tags": []
          },
          "execution_count": 4
        }
      ]
    },
    {
      "cell_type": "code",
      "metadata": {
        "colab": {
          "base_uri": "https://localhost:8080/"
        },
        "id": "GIY-305oPXKV",
        "outputId": "8a8c284f-d2e2-4584-f67d-455bd026bf28"
      },
      "source": [
        "data.shape"
      ],
      "execution_count": null,
      "outputs": [
        {
          "output_type": "execute_result",
          "data": {
            "text/plain": [
              "(569, 31)"
            ]
          },
          "metadata": {
            "tags": []
          },
          "execution_count": 5
        }
      ]
    },
    {
      "cell_type": "code",
      "metadata": {
        "id": "GVOcHaFsxcCu"
      },
      "source": [
        "from sklearn.model_selection import cross_val_predict, StratifiedKFold, train_test_split\n",
        "from sklearn.linear_model import LogisticRegression\n",
        "from sklearn.tree import DecisionTreeClassifier\n",
        "from sklearn.ensemble import RandomForestClassifier\n",
        "from sklearn.neural_network import MLPClassifier\n",
        "from sklearn.svm import SVC\n",
        "from sklearn.neighbors import KNeighborsClassifier\n",
        "from sklearn.naive_bayes import GaussianNB\n",
        "from xgboost import XGBClassifier\n",
        "from sklearn import metrics\n",
        "from hyperopt import hp,fmin,tpe,Trials,space_eval\n",
        "from functools import partial"
      ],
      "execution_count": null,
      "outputs": []
    },
    {
      "cell_type": "code",
      "metadata": {
        "id": "6eooY17kyL5X"
      },
      "source": [
        "X_train,X_test,Y_train,Y_test = train_test_split(data[[i for i in data.columns if i != 'cancer_type']]\n",
        "                                                 ,data['cancer_type']\n",
        "                                                 ,stratify = data['cancer_type']\n",
        "                                                 ,test_size=0.2\n",
        "                                                 , random_state=0)"
      ],
      "execution_count": null,
      "outputs": []
    },
    {
      "cell_type": "code",
      "metadata": {
        "colab": {
          "base_uri": "https://localhost:8080/"
        },
        "id": "-qBZ4M9iyhKo",
        "outputId": "ac9bd2f0-7e96-40ba-b4b1-383ed19ead3f"
      },
      "source": [
        "print(X_train.shape)\n",
        "print(X_test.shape)\n",
        "print(Y_train.shape)\n",
        "print(Y_test.shape)"
      ],
      "execution_count": null,
      "outputs": [
        {
          "output_type": "stream",
          "text": [
            "(455, 30)\n",
            "(114, 30)\n",
            "(455,)\n",
            "(114,)\n"
          ],
          "name": "stdout"
        }
      ]
    },
    {
      "cell_type": "code",
      "metadata": {
        "colab": {
          "base_uri": "https://localhost:8080/",
          "height": 345
        },
        "id": "0_B2VD8Yyj0s",
        "outputId": "b60d0032-96f4-4615-cb7d-6f2dee5bed64"
      },
      "source": [
        "model = LogisticRegression()\n",
        "\n",
        "model.fit(X_train,Y_train)\n",
        "      \n",
        "report = pd.DataFrame(metrics.classification_report(Y_test, model.predict(X_test),output_dict=True)).T.reset_index().rename(columns = {'index':'Outcome'})\n",
        "report"
      ],
      "execution_count": null,
      "outputs": [
        {
          "output_type": "stream",
          "text": [
            "/usr/local/lib/python3.7/dist-packages/sklearn/linear_model/_logistic.py:940: ConvergenceWarning: lbfgs failed to converge (status=1):\n",
            "STOP: TOTAL NO. of ITERATIONS REACHED LIMIT.\n",
            "\n",
            "Increase the number of iterations (max_iter) or scale the data as shown in:\n",
            "    https://scikit-learn.org/stable/modules/preprocessing.html\n",
            "Please also refer to the documentation for alternative solver options:\n",
            "    https://scikit-learn.org/stable/modules/linear_model.html#logistic-regression\n",
            "  extra_warning_msg=_LOGISTIC_SOLVER_CONVERGENCE_MSG)\n"
          ],
          "name": "stderr"
        },
        {
          "output_type": "execute_result",
          "data": {
            "text/html": [
              "<div>\n",
              "<style scoped>\n",
              "    .dataframe tbody tr th:only-of-type {\n",
              "        vertical-align: middle;\n",
              "    }\n",
              "\n",
              "    .dataframe tbody tr th {\n",
              "        vertical-align: top;\n",
              "    }\n",
              "\n",
              "    .dataframe thead th {\n",
              "        text-align: right;\n",
              "    }\n",
              "</style>\n",
              "<table border=\"1\" class=\"dataframe\">\n",
              "  <thead>\n",
              "    <tr style=\"text-align: right;\">\n",
              "      <th></th>\n",
              "      <th>Outcome</th>\n",
              "      <th>precision</th>\n",
              "      <th>recall</th>\n",
              "      <th>f1-score</th>\n",
              "      <th>support</th>\n",
              "    </tr>\n",
              "  </thead>\n",
              "  <tbody>\n",
              "    <tr>\n",
              "      <th>0</th>\n",
              "      <td>0</td>\n",
              "      <td>0.926829</td>\n",
              "      <td>0.904762</td>\n",
              "      <td>0.915663</td>\n",
              "      <td>42.000000</td>\n",
              "    </tr>\n",
              "    <tr>\n",
              "      <th>1</th>\n",
              "      <td>1</td>\n",
              "      <td>0.945205</td>\n",
              "      <td>0.958333</td>\n",
              "      <td>0.951724</td>\n",
              "      <td>72.000000</td>\n",
              "    </tr>\n",
              "    <tr>\n",
              "      <th>2</th>\n",
              "      <td>accuracy</td>\n",
              "      <td>0.938596</td>\n",
              "      <td>0.938596</td>\n",
              "      <td>0.938596</td>\n",
              "      <td>0.938596</td>\n",
              "    </tr>\n",
              "    <tr>\n",
              "      <th>3</th>\n",
              "      <td>macro avg</td>\n",
              "      <td>0.936017</td>\n",
              "      <td>0.931548</td>\n",
              "      <td>0.933693</td>\n",
              "      <td>114.000000</td>\n",
              "    </tr>\n",
              "    <tr>\n",
              "      <th>4</th>\n",
              "      <td>weighted avg</td>\n",
              "      <td>0.938435</td>\n",
              "      <td>0.938596</td>\n",
              "      <td>0.938438</td>\n",
              "      <td>114.000000</td>\n",
              "    </tr>\n",
              "  </tbody>\n",
              "</table>\n",
              "</div>"
            ],
            "text/plain": [
              "        Outcome  precision    recall  f1-score     support\n",
              "0             0   0.926829  0.904762  0.915663   42.000000\n",
              "1             1   0.945205  0.958333  0.951724   72.000000\n",
              "2      accuracy   0.938596  0.938596  0.938596    0.938596\n",
              "3     macro avg   0.936017  0.931548  0.933693  114.000000\n",
              "4  weighted avg   0.938435  0.938596  0.938438  114.000000"
            ]
          },
          "metadata": {
            "tags": []
          },
          "execution_count": 9
        }
      ]
    },
    {
      "cell_type": "markdown",
      "metadata": {
        "id": "wZsN23Ujy-JR"
      },
      "source": [
        "We need to create a model with high recall so lowering the probability cutoff"
      ]
    },
    {
      "cell_type": "code",
      "metadata": {
        "colab": {
          "base_uri": "https://localhost:8080/",
          "height": 206
        },
        "id": "5LXuimWQyq5q",
        "outputId": "826979f3-de9c-4f36-ef16-867020e89d80"
      },
      "source": [
        "report = pd.DataFrame(metrics.classification_report(Y_test, [1  if i >= 0.4 else 0 for i in model.predict_proba(X_test)[:,1]],output_dict=True)).T.reset_index().rename(columns = {'index':'Outcome'})\n",
        "report"
      ],
      "execution_count": null,
      "outputs": [
        {
          "output_type": "execute_result",
          "data": {
            "text/html": [
              "<div>\n",
              "<style scoped>\n",
              "    .dataframe tbody tr th:only-of-type {\n",
              "        vertical-align: middle;\n",
              "    }\n",
              "\n",
              "    .dataframe tbody tr th {\n",
              "        vertical-align: top;\n",
              "    }\n",
              "\n",
              "    .dataframe thead th {\n",
              "        text-align: right;\n",
              "    }\n",
              "</style>\n",
              "<table border=\"1\" class=\"dataframe\">\n",
              "  <thead>\n",
              "    <tr style=\"text-align: right;\">\n",
              "      <th></th>\n",
              "      <th>Outcome</th>\n",
              "      <th>precision</th>\n",
              "      <th>recall</th>\n",
              "      <th>f1-score</th>\n",
              "      <th>support</th>\n",
              "    </tr>\n",
              "  </thead>\n",
              "  <tbody>\n",
              "    <tr>\n",
              "      <th>0</th>\n",
              "      <td>0</td>\n",
              "      <td>0.926829</td>\n",
              "      <td>0.904762</td>\n",
              "      <td>0.915663</td>\n",
              "      <td>42.000000</td>\n",
              "    </tr>\n",
              "    <tr>\n",
              "      <th>1</th>\n",
              "      <td>1</td>\n",
              "      <td>0.945205</td>\n",
              "      <td>0.958333</td>\n",
              "      <td>0.951724</td>\n",
              "      <td>72.000000</td>\n",
              "    </tr>\n",
              "    <tr>\n",
              "      <th>2</th>\n",
              "      <td>accuracy</td>\n",
              "      <td>0.938596</td>\n",
              "      <td>0.938596</td>\n",
              "      <td>0.938596</td>\n",
              "      <td>0.938596</td>\n",
              "    </tr>\n",
              "    <tr>\n",
              "      <th>3</th>\n",
              "      <td>macro avg</td>\n",
              "      <td>0.936017</td>\n",
              "      <td>0.931548</td>\n",
              "      <td>0.933693</td>\n",
              "      <td>114.000000</td>\n",
              "    </tr>\n",
              "    <tr>\n",
              "      <th>4</th>\n",
              "      <td>weighted avg</td>\n",
              "      <td>0.938435</td>\n",
              "      <td>0.938596</td>\n",
              "      <td>0.938438</td>\n",
              "      <td>114.000000</td>\n",
              "    </tr>\n",
              "  </tbody>\n",
              "</table>\n",
              "</div>"
            ],
            "text/plain": [
              "        Outcome  precision    recall  f1-score     support\n",
              "0             0   0.926829  0.904762  0.915663   42.000000\n",
              "1             1   0.945205  0.958333  0.951724   72.000000\n",
              "2      accuracy   0.938596  0.938596  0.938596    0.938596\n",
              "3     macro avg   0.936017  0.931548  0.933693  114.000000\n",
              "4  weighted avg   0.938435  0.938596  0.938438  114.000000"
            ]
          },
          "metadata": {
            "tags": []
          },
          "execution_count": 16
        }
      ]
    },
    {
      "cell_type": "code",
      "metadata": {
        "colab": {
          "base_uri": "https://localhost:8080/",
          "height": 206
        },
        "id": "5H60z-BvyyBx",
        "outputId": "31f535ff-536b-4ceb-e1e3-03422e30c10c"
      },
      "source": [
        "model = DecisionTreeClassifier()\n",
        "\n",
        "model.fit(X_train,Y_train)\n",
        "      \n",
        "report = pd.DataFrame(metrics.classification_report(Y_test, model.predict(X_test),output_dict=True)).T.reset_index().rename(columns = {'index':'Outcome'})\n",
        "report"
      ],
      "execution_count": null,
      "outputs": [
        {
          "output_type": "execute_result",
          "data": {
            "text/html": [
              "<div>\n",
              "<style scoped>\n",
              "    .dataframe tbody tr th:only-of-type {\n",
              "        vertical-align: middle;\n",
              "    }\n",
              "\n",
              "    .dataframe tbody tr th {\n",
              "        vertical-align: top;\n",
              "    }\n",
              "\n",
              "    .dataframe thead th {\n",
              "        text-align: right;\n",
              "    }\n",
              "</style>\n",
              "<table border=\"1\" class=\"dataframe\">\n",
              "  <thead>\n",
              "    <tr style=\"text-align: right;\">\n",
              "      <th></th>\n",
              "      <th>Outcome</th>\n",
              "      <th>precision</th>\n",
              "      <th>recall</th>\n",
              "      <th>f1-score</th>\n",
              "      <th>support</th>\n",
              "    </tr>\n",
              "  </thead>\n",
              "  <tbody>\n",
              "    <tr>\n",
              "      <th>0</th>\n",
              "      <td>0</td>\n",
              "      <td>0.909091</td>\n",
              "      <td>0.952381</td>\n",
              "      <td>0.930233</td>\n",
              "      <td>42.000000</td>\n",
              "    </tr>\n",
              "    <tr>\n",
              "      <th>1</th>\n",
              "      <td>1</td>\n",
              "      <td>0.971429</td>\n",
              "      <td>0.944444</td>\n",
              "      <td>0.957746</td>\n",
              "      <td>72.000000</td>\n",
              "    </tr>\n",
              "    <tr>\n",
              "      <th>2</th>\n",
              "      <td>accuracy</td>\n",
              "      <td>0.947368</td>\n",
              "      <td>0.947368</td>\n",
              "      <td>0.947368</td>\n",
              "      <td>0.947368</td>\n",
              "    </tr>\n",
              "    <tr>\n",
              "      <th>3</th>\n",
              "      <td>macro avg</td>\n",
              "      <td>0.940260</td>\n",
              "      <td>0.948413</td>\n",
              "      <td>0.943990</td>\n",
              "      <td>114.000000</td>\n",
              "    </tr>\n",
              "    <tr>\n",
              "      <th>4</th>\n",
              "      <td>weighted avg</td>\n",
              "      <td>0.948462</td>\n",
              "      <td>0.947368</td>\n",
              "      <td>0.947610</td>\n",
              "      <td>114.000000</td>\n",
              "    </tr>\n",
              "  </tbody>\n",
              "</table>\n",
              "</div>"
            ],
            "text/plain": [
              "        Outcome  precision    recall  f1-score     support\n",
              "0             0   0.909091  0.952381  0.930233   42.000000\n",
              "1             1   0.971429  0.944444  0.957746   72.000000\n",
              "2      accuracy   0.947368  0.947368  0.947368    0.947368\n",
              "3     macro avg   0.940260  0.948413  0.943990  114.000000\n",
              "4  weighted avg   0.948462  0.947368  0.947610  114.000000"
            ]
          },
          "metadata": {
            "tags": []
          },
          "execution_count": 17
        }
      ]
    },
    {
      "cell_type": "markdown",
      "metadata": {
        "id": "h4Ig_DT4zc9i"
      },
      "source": [
        "By plotting the tree, we can extract insights and create rules that can be validated by subject matter experts"
      ]
    },
    {
      "cell_type": "code",
      "metadata": {
        "colab": {
          "base_uri": "https://localhost:8080/",
          "height": 683
        },
        "id": "ROJtMFhszU8Y",
        "outputId": "8b03917a-dd32-4e60-88db-4302c679744e"
      },
      "source": [
        "from sklearn.tree import plot_tree\n",
        "import matplotlib.pyplot as plt\n",
        "\n",
        "plt.figure(figsize=(12,12))  # set plot size (denoted in inches)\n",
        "plot_tree(model, fontsize=10)\n",
        "plt.show()"
      ],
      "execution_count": null,
      "outputs": [
        {
          "output_type": "display_data",
          "data": {
            "image/png": "[encoded data removed]",
            "text/plain": [
              "<Figure size 864x864 with 1 Axes>"
            ]
          },
          "metadata": {
            "tags": [],
            "needs_background": "light"
          }
        }
      ]
    },
    {
      "cell_type": "code",
      "metadata": {
        "colab": {
          "base_uri": "https://localhost:8080/",
          "height": 206
        },
        "id": "y2xON64ezXpb",
        "outputId": "a8fc1bb6-1ddc-4751-968c-706cfdf8bd7c"
      },
      "source": [
        "model = RandomForestClassifier()\n",
        "\n",
        "model.fit(X_train,Y_train)\n",
        "      \n",
        "report = pd.DataFrame(metrics.classification_report(Y_test, model.predict(X_test),output_dict=True)).T.reset_index().rename(columns = {'index':'Outcome'})\n",
        "report"
      ],
      "execution_count": null,
      "outputs": [
        {
          "output_type": "execute_result",
          "data": {
            "text/html": [
              "<div>\n",
              "<style scoped>\n",
              "    .dataframe tbody tr th:only-of-type {\n",
              "        vertical-align: middle;\n",
              "    }\n",
              "\n",
              "    .dataframe tbody tr th {\n",
              "        vertical-align: top;\n",
              "    }\n",
              "\n",
              "    .dataframe thead th {\n",
              "        text-align: right;\n",
              "    }\n",
              "</style>\n",
              "<table border=\"1\" class=\"dataframe\">\n",
              "  <thead>\n",
              "    <tr style=\"text-align: right;\">\n",
              "      <th></th>\n",
              "      <th>Outcome</th>\n",
              "      <th>precision</th>\n",
              "      <th>recall</th>\n",
              "      <th>f1-score</th>\n",
              "      <th>support</th>\n",
              "    </tr>\n",
              "  </thead>\n",
              "  <tbody>\n",
              "    <tr>\n",
              "      <th>0</th>\n",
              "      <td>0</td>\n",
              "      <td>0.906977</td>\n",
              "      <td>0.928571</td>\n",
              "      <td>0.917647</td>\n",
              "      <td>42.000000</td>\n",
              "    </tr>\n",
              "    <tr>\n",
              "      <th>1</th>\n",
              "      <td>1</td>\n",
              "      <td>0.957746</td>\n",
              "      <td>0.944444</td>\n",
              "      <td>0.951049</td>\n",
              "      <td>72.000000</td>\n",
              "    </tr>\n",
              "    <tr>\n",
              "      <th>2</th>\n",
              "      <td>accuracy</td>\n",
              "      <td>0.938596</td>\n",
              "      <td>0.938596</td>\n",
              "      <td>0.938596</td>\n",
              "      <td>0.938596</td>\n",
              "    </tr>\n",
              "    <tr>\n",
              "      <th>3</th>\n",
              "      <td>macro avg</td>\n",
              "      <td>0.932362</td>\n",
              "      <td>0.936508</td>\n",
              "      <td>0.934348</td>\n",
              "      <td>114.000000</td>\n",
              "    </tr>\n",
              "    <tr>\n",
              "      <th>4</th>\n",
              "      <td>weighted avg</td>\n",
              "      <td>0.939042</td>\n",
              "      <td>0.938596</td>\n",
              "      <td>0.938743</td>\n",
              "      <td>114.000000</td>\n",
              "    </tr>\n",
              "  </tbody>\n",
              "</table>\n",
              "</div>"
            ],
            "text/plain": [
              "        Outcome  precision    recall  f1-score     support\n",
              "0             0   0.906977  0.928571  0.917647   42.000000\n",
              "1             1   0.957746  0.944444  0.951049   72.000000\n",
              "2      accuracy   0.938596  0.938596  0.938596    0.938596\n",
              "3     macro avg   0.932362  0.936508  0.934348  114.000000\n",
              "4  weighted avg   0.939042  0.938596  0.938743  114.000000"
            ]
          },
          "metadata": {
            "tags": []
          },
          "execution_count": 19
        }
      ]
    },
    {
      "cell_type": "code",
      "metadata": {
        "colab": {
          "base_uri": "https://localhost:8080/",
          "height": 206
        },
        "id": "mg-MJfhhzoeO",
        "outputId": "9b1307c1-1ad2-466f-bcd9-bf214f29c92e"
      },
      "source": [
        "model = SVC()\n",
        "\n",
        "model.fit(X_train,Y_train)\n",
        "      \n",
        "report = pd.DataFrame(metrics.classification_report(Y_test, model.predict(X_test),output_dict=True)).T.reset_index().rename(columns = {'index':'Outcome'})\n",
        "report"
      ],
      "execution_count": null,
      "outputs": [
        {
          "output_type": "execute_result",
          "data": {
            "text/html": [
              "<div>\n",
              "<style scoped>\n",
              "    .dataframe tbody tr th:only-of-type {\n",
              "        vertical-align: middle;\n",
              "    }\n",
              "\n",
              "    .dataframe tbody tr th {\n",
              "        vertical-align: top;\n",
              "    }\n",
              "\n",
              "    .dataframe thead th {\n",
              "        text-align: right;\n",
              "    }\n",
              "</style>\n",
              "<table border=\"1\" class=\"dataframe\">\n",
              "  <thead>\n",
              "    <tr style=\"text-align: right;\">\n",
              "      <th></th>\n",
              "      <th>Outcome</th>\n",
              "      <th>precision</th>\n",
              "      <th>recall</th>\n",
              "      <th>f1-score</th>\n",
              "      <th>support</th>\n",
              "    </tr>\n",
              "  </thead>\n",
              "  <tbody>\n",
              "    <tr>\n",
              "      <th>0</th>\n",
              "      <td>0</td>\n",
              "      <td>0.944444</td>\n",
              "      <td>0.809524</td>\n",
              "      <td>0.871795</td>\n",
              "      <td>42.000000</td>\n",
              "    </tr>\n",
              "    <tr>\n",
              "      <th>1</th>\n",
              "      <td>1</td>\n",
              "      <td>0.897436</td>\n",
              "      <td>0.972222</td>\n",
              "      <td>0.933333</td>\n",
              "      <td>72.000000</td>\n",
              "    </tr>\n",
              "    <tr>\n",
              "      <th>2</th>\n",
              "      <td>accuracy</td>\n",
              "      <td>0.912281</td>\n",
              "      <td>0.912281</td>\n",
              "      <td>0.912281</td>\n",
              "      <td>0.912281</td>\n",
              "    </tr>\n",
              "    <tr>\n",
              "      <th>3</th>\n",
              "      <td>macro avg</td>\n",
              "      <td>0.920940</td>\n",
              "      <td>0.890873</td>\n",
              "      <td>0.902564</td>\n",
              "      <td>114.000000</td>\n",
              "    </tr>\n",
              "    <tr>\n",
              "      <th>4</th>\n",
              "      <td>weighted avg</td>\n",
              "      <td>0.914755</td>\n",
              "      <td>0.912281</td>\n",
              "      <td>0.910661</td>\n",
              "      <td>114.000000</td>\n",
              "    </tr>\n",
              "  </tbody>\n",
              "</table>\n",
              "</div>"
            ],
            "text/plain": [
              "        Outcome  precision    recall  f1-score     support\n",
              "0             0   0.944444  0.809524  0.871795   42.000000\n",
              "1             1   0.897436  0.972222  0.933333   72.000000\n",
              "2      accuracy   0.912281  0.912281  0.912281    0.912281\n",
              "3     macro avg   0.920940  0.890873  0.902564  114.000000\n",
              "4  weighted avg   0.914755  0.912281  0.910661  114.000000"
            ]
          },
          "metadata": {
            "tags": []
          },
          "execution_count": 20
        }
      ]
    },
    {
      "cell_type": "code",
      "metadata": {
        "colab": {
          "base_uri": "https://localhost:8080/",
          "height": 206
        },
        "id": "0EK0QpbLzqx1",
        "outputId": "ce7caf6e-0f1b-4786-a98a-d01d9ebef04f"
      },
      "source": [
        "model = XGBClassifier()\n",
        "\n",
        "model.fit(X_train,Y_train)\n",
        "      \n",
        "report = pd.DataFrame(metrics.classification_report(Y_test, model.predict(X_test),output_dict=True)).T.reset_index().rename(columns = {'index':'Outcome'})\n",
        "report"
      ],
      "execution_count": null,
      "outputs": [
        {
          "output_type": "execute_result",
          "data": {
            "text/html": [
              "<div>\n",
              "<style scoped>\n",
              "    .dataframe tbody tr th:only-of-type {\n",
              "        vertical-align: middle;\n",
              "    }\n",
              "\n",
              "    .dataframe tbody tr th {\n",
              "        vertical-align: top;\n",
              "    }\n",
              "\n",
              "    .dataframe thead th {\n",
              "        text-align: right;\n",
              "    }\n",
              "</style>\n",
              "<table border=\"1\" class=\"dataframe\">\n",
              "  <thead>\n",
              "    <tr style=\"text-align: right;\">\n",
              "      <th></th>\n",
              "      <th>Outcome</th>\n",
              "      <th>precision</th>\n",
              "      <th>recall</th>\n",
              "      <th>f1-score</th>\n",
              "      <th>support</th>\n",
              "    </tr>\n",
              "  </thead>\n",
              "  <tbody>\n",
              "    <tr>\n",
              "      <th>0</th>\n",
              "      <td>0</td>\n",
              "      <td>0.909091</td>\n",
              "      <td>0.952381</td>\n",
              "      <td>0.930233</td>\n",
              "      <td>42.000000</td>\n",
              "    </tr>\n",
              "    <tr>\n",
              "      <th>1</th>\n",
              "      <td>1</td>\n",
              "      <td>0.971429</td>\n",
              "      <td>0.944444</td>\n",
              "      <td>0.957746</td>\n",
              "      <td>72.000000</td>\n",
              "    </tr>\n",
              "    <tr>\n",
              "      <th>2</th>\n",
              "      <td>accuracy</td>\n",
              "      <td>0.947368</td>\n",
              "      <td>0.947368</td>\n",
              "      <td>0.947368</td>\n",
              "      <td>0.947368</td>\n",
              "    </tr>\n",
              "    <tr>\n",
              "      <th>3</th>\n",
              "      <td>macro avg</td>\n",
              "      <td>0.940260</td>\n",
              "      <td>0.948413</td>\n",
              "      <td>0.943990</td>\n",
              "      <td>114.000000</td>\n",
              "    </tr>\n",
              "    <tr>\n",
              "      <th>4</th>\n",
              "      <td>weighted avg</td>\n",
              "      <td>0.948462</td>\n",
              "      <td>0.947368</td>\n",
              "      <td>0.947610</td>\n",
              "      <td>114.000000</td>\n",
              "    </tr>\n",
              "  </tbody>\n",
              "</table>\n",
              "</div>"
            ],
            "text/plain": [
              "        Outcome  precision    recall  f1-score     support\n",
              "0             0   0.909091  0.952381  0.930233   42.000000\n",
              "1             1   0.971429  0.944444  0.957746   72.000000\n",
              "2      accuracy   0.947368  0.947368  0.947368    0.947368\n",
              "3     macro avg   0.940260  0.948413  0.943990  114.000000\n",
              "4  weighted avg   0.948462  0.947368  0.947610  114.000000"
            ]
          },
          "metadata": {
            "tags": []
          },
          "execution_count": 21
        }
      ]
    },
    {
      "cell_type": "code",
      "metadata": {
        "colab": {
          "base_uri": "https://localhost:8080/",
          "height": 206
        },
        "id": "5adIdXbRztvL",
        "outputId": "59edce6b-1440-480a-9fb2-4cafe99b5866"
      },
      "source": [
        "model = KNeighborsClassifier()\n",
        "\n",
        "model.fit(X_train,Y_train)\n",
        "      \n",
        "report = pd.DataFrame(metrics.classification_report(Y_test, model.predict(X_test),output_dict=True)).T.reset_index().rename(columns = {'index':'Outcome'})\n",
        "report"
      ],
      "execution_count": null,
      "outputs": [
        {
          "output_type": "execute_result",
          "data": {
            "text/html": [
              "<div>\n",
              "<style scoped>\n",
              "    .dataframe tbody tr th:only-of-type {\n",
              "        vertical-align: middle;\n",
              "    }\n",
              "\n",
              "    .dataframe tbody tr th {\n",
              "        vertical-align: top;\n",
              "    }\n",
              "\n",
              "    .dataframe thead th {\n",
              "        text-align: right;\n",
              "    }\n",
              "</style>\n",
              "<table border=\"1\" class=\"dataframe\">\n",
              "  <thead>\n",
              "    <tr style=\"text-align: right;\">\n",
              "      <th></th>\n",
              "      <th>Outcome</th>\n",
              "      <th>precision</th>\n",
              "      <th>recall</th>\n",
              "      <th>f1-score</th>\n",
              "      <th>support</th>\n",
              "    </tr>\n",
              "  </thead>\n",
              "  <tbody>\n",
              "    <tr>\n",
              "      <th>0</th>\n",
              "      <td>0</td>\n",
              "      <td>0.880952</td>\n",
              "      <td>0.880952</td>\n",
              "      <td>0.880952</td>\n",
              "      <td>42.000000</td>\n",
              "    </tr>\n",
              "    <tr>\n",
              "      <th>1</th>\n",
              "      <td>1</td>\n",
              "      <td>0.930556</td>\n",
              "      <td>0.930556</td>\n",
              "      <td>0.930556</td>\n",
              "      <td>72.000000</td>\n",
              "    </tr>\n",
              "    <tr>\n",
              "      <th>2</th>\n",
              "      <td>accuracy</td>\n",
              "      <td>0.912281</td>\n",
              "      <td>0.912281</td>\n",
              "      <td>0.912281</td>\n",
              "      <td>0.912281</td>\n",
              "    </tr>\n",
              "    <tr>\n",
              "      <th>3</th>\n",
              "      <td>macro avg</td>\n",
              "      <td>0.905754</td>\n",
              "      <td>0.905754</td>\n",
              "      <td>0.905754</td>\n",
              "      <td>114.000000</td>\n",
              "    </tr>\n",
              "    <tr>\n",
              "      <th>4</th>\n",
              "      <td>weighted avg</td>\n",
              "      <td>0.912281</td>\n",
              "      <td>0.912281</td>\n",
              "      <td>0.912281</td>\n",
              "      <td>114.000000</td>\n",
              "    </tr>\n",
              "  </tbody>\n",
              "</table>\n",
              "</div>"
            ],
            "text/plain": [
              "        Outcome  precision    recall  f1-score     support\n",
              "0             0   0.880952  0.880952  0.880952   42.000000\n",
              "1             1   0.930556  0.930556  0.930556   72.000000\n",
              "2      accuracy   0.912281  0.912281  0.912281    0.912281\n",
              "3     macro avg   0.905754  0.905754  0.905754  114.000000\n",
              "4  weighted avg   0.912281  0.912281  0.912281  114.000000"
            ]
          },
          "metadata": {
            "tags": []
          },
          "execution_count": 22
        }
      ]
    },
    {
      "cell_type": "code",
      "metadata": {
        "colab": {
          "base_uri": "https://localhost:8080/",
          "height": 206
        },
        "id": "LBJpz8mazzwg",
        "outputId": "465a2c1a-bb2e-459f-8e17-4e13970c107b"
      },
      "source": [
        "model = GaussianNB()\n",
        "\n",
        "model.fit(X_train,Y_train)\n",
        "      \n",
        "report = pd.DataFrame(metrics.classification_report(Y_test, model.predict(X_test),output_dict=True)).T.reset_index().rename(columns = {'index':'Outcome'})\n",
        "report"
      ],
      "execution_count": null,
      "outputs": [
        {
          "output_type": "execute_result",
          "data": {
            "text/html": [
              "<div>\n",
              "<style scoped>\n",
              "    .dataframe tbody tr th:only-of-type {\n",
              "        vertical-align: middle;\n",
              "    }\n",
              "\n",
              "    .dataframe tbody tr th {\n",
              "        vertical-align: top;\n",
              "    }\n",
              "\n",
              "    .dataframe thead th {\n",
              "        text-align: right;\n",
              "    }\n",
              "</style>\n",
              "<table border=\"1\" class=\"dataframe\">\n",
              "  <thead>\n",
              "    <tr style=\"text-align: right;\">\n",
              "      <th></th>\n",
              "      <th>Outcome</th>\n",
              "      <th>precision</th>\n",
              "      <th>recall</th>\n",
              "      <th>f1-score</th>\n",
              "      <th>support</th>\n",
              "    </tr>\n",
              "  </thead>\n",
              "  <tbody>\n",
              "    <tr>\n",
              "      <th>0</th>\n",
              "      <td>0</td>\n",
              "      <td>0.883721</td>\n",
              "      <td>0.904762</td>\n",
              "      <td>0.894118</td>\n",
              "      <td>42.000000</td>\n",
              "    </tr>\n",
              "    <tr>\n",
              "      <th>1</th>\n",
              "      <td>1</td>\n",
              "      <td>0.943662</td>\n",
              "      <td>0.930556</td>\n",
              "      <td>0.937063</td>\n",
              "      <td>72.000000</td>\n",
              "    </tr>\n",
              "    <tr>\n",
              "      <th>2</th>\n",
              "      <td>accuracy</td>\n",
              "      <td>0.921053</td>\n",
              "      <td>0.921053</td>\n",
              "      <td>0.921053</td>\n",
              "      <td>0.921053</td>\n",
              "    </tr>\n",
              "    <tr>\n",
              "      <th>3</th>\n",
              "      <td>macro avg</td>\n",
              "      <td>0.913691</td>\n",
              "      <td>0.917659</td>\n",
              "      <td>0.915590</td>\n",
              "      <td>114.000000</td>\n",
              "    </tr>\n",
              "    <tr>\n",
              "      <th>4</th>\n",
              "      <td>weighted avg</td>\n",
              "      <td>0.921578</td>\n",
              "      <td>0.921053</td>\n",
              "      <td>0.921241</td>\n",
              "      <td>114.000000</td>\n",
              "    </tr>\n",
              "  </tbody>\n",
              "</table>\n",
              "</div>"
            ],
            "text/plain": [
              "        Outcome  precision    recall  f1-score     support\n",
              "0             0   0.883721  0.904762  0.894118   42.000000\n",
              "1             1   0.943662  0.930556  0.937063   72.000000\n",
              "2      accuracy   0.921053  0.921053  0.921053    0.921053\n",
              "3     macro avg   0.913691  0.917659  0.915590  114.000000\n",
              "4  weighted avg   0.921578  0.921053  0.921241  114.000000"
            ]
          },
          "metadata": {
            "tags": []
          },
          "execution_count": 23
        }
      ]
    },
    {
      "cell_type": "code",
      "metadata": {
        "colab": {
          "base_uri": "https://localhost:8080/",
          "height": 223
        },
        "id": "3U-mggayz2Ny",
        "outputId": "cde5d11e-3177-4775-d7f5-9a6269a6a087"
      },
      "source": [
        "xgb_params = {'learning_rate'   : hp.choice('learning_rate',np.arange(0.05, 0.31, 0.05)),\n",
        "              'max_depth'       : hp.choice('max_depth', np.arange(1, 16, 1, dtype=int)),\n",
        "              'min_child_weight': hp.choice('min_child_weight', np.arange(1, 8, 1, dtype=int)),\n",
        "              'colsample_bytree': hp.choice('colsample_bytree', np.arange(0.3, 1.0, 0.1)),\n",
        "              'subsample':        hp.uniform('subsample', 0.8, 1),\n",
        "              'n_estimators':     hp.choice('n_estimators', np.arange(100, 500, 100, dtype=int))}\n",
        "\n",
        "def xgb_objective_func(params,X_Data,Y_Data):\n",
        "    model = XGBClassifier(**params)\n",
        "    CV_pred = cross_val_predict(model,X_Data,Y_Data, cv=StratifiedKFold(n_splits=5),method='predict')\n",
        "    accuracy = metrics.accuracy_score(Y_Data, CV_pred) #we can use recall aswell\n",
        "    return -1*accuracy\n",
        "\n",
        "fmin_objective = partial(xgb_objective_func,X_Data= X_train,Y_Data = Y_train)\n",
        "\n",
        "xgb_tpe_best = fmin(fn=fmin_objective,\n",
        "                space=xgb_params,\n",
        "                algo=tpe.suggest,\n",
        "                trials=Trials(),\n",
        "                max_evals=10 )\n",
        "\n",
        "xgb_hyperparams = space_eval(xgb_params, xgb_tpe_best)\n",
        "\n",
        "xgb_model = XGBClassifier(**xgb_hyperparams)\n",
        "\n",
        "xgb_model.fit(X_train,Y_train)\n",
        "\n",
        "xgb_report = pd.DataFrame(metrics.classification_report(Y_test, xgb_model.predict(X_test),output_dict=True)).T.reset_index().rename(columns = {'index':'Outcome'})\n",
        "xgb_report"
      ],
      "execution_count": null,
      "outputs": [
        {
          "output_type": "stream",
          "text": [
            "100%|██████████| 10/10 [00:03<00:00,  2.70it/s, best loss: -0.9714285714285714]\n"
          ],
          "name": "stdout"
        },
        {
          "output_type": "execute_result",
          "data": {
            "text/html": [
              "<div>\n",
              "<style scoped>\n",
              "    .dataframe tbody tr th:only-of-type {\n",
              "        vertical-align: middle;\n",
              "    }\n",
              "\n",
              "    .dataframe tbody tr th {\n",
              "        vertical-align: top;\n",
              "    }\n",
              "\n",
              "    .dataframe thead th {\n",
              "        text-align: right;\n",
              "    }\n",
              "</style>\n",
              "<table border=\"1\" class=\"dataframe\">\n",
              "  <thead>\n",
              "    <tr style=\"text-align: right;\">\n",
              "      <th></th>\n",
              "      <th>Outcome</th>\n",
              "      <th>precision</th>\n",
              "      <th>recall</th>\n",
              "      <th>f1-score</th>\n",
              "      <th>support</th>\n",
              "    </tr>\n",
              "  </thead>\n",
              "  <tbody>\n",
              "    <tr>\n",
              "      <th>0</th>\n",
              "      <td>0</td>\n",
              "      <td>0.952381</td>\n",
              "      <td>0.952381</td>\n",
              "      <td>0.952381</td>\n",
              "      <td>42.000000</td>\n",
              "    </tr>\n",
              "    <tr>\n",
              "      <th>1</th>\n",
              "      <td>1</td>\n",
              "      <td>0.972222</td>\n",
              "      <td>0.972222</td>\n",
              "      <td>0.972222</td>\n",
              "      <td>72.000000</td>\n",
              "    </tr>\n",
              "    <tr>\n",
              "      <th>2</th>\n",
              "      <td>accuracy</td>\n",
              "      <td>0.964912</td>\n",
              "      <td>0.964912</td>\n",
              "      <td>0.964912</td>\n",
              "      <td>0.964912</td>\n",
              "    </tr>\n",
              "    <tr>\n",
              "      <th>3</th>\n",
              "      <td>macro avg</td>\n",
              "      <td>0.962302</td>\n",
              "      <td>0.962302</td>\n",
              "      <td>0.962302</td>\n",
              "      <td>114.000000</td>\n",
              "    </tr>\n",
              "    <tr>\n",
              "      <th>4</th>\n",
              "      <td>weighted avg</td>\n",
              "      <td>0.964912</td>\n",
              "      <td>0.964912</td>\n",
              "      <td>0.964912</td>\n",
              "      <td>114.000000</td>\n",
              "    </tr>\n",
              "  </tbody>\n",
              "</table>\n",
              "</div>"
            ],
            "text/plain": [
              "        Outcome  precision    recall  f1-score     support\n",
              "0             0   0.952381  0.952381  0.952381   42.000000\n",
              "1             1   0.972222  0.972222  0.972222   72.000000\n",
              "2      accuracy   0.964912  0.964912  0.964912    0.964912\n",
              "3     macro avg   0.962302  0.962302  0.962302  114.000000\n",
              "4  weighted avg   0.964912  0.964912  0.964912  114.000000"
            ]
          },
          "metadata": {
            "tags": []
          },
          "execution_count": 26
        }
      ]
    },
    {
      "cell_type": "markdown",
      "metadata": {
        "id": "IFg4MWal0W47"
      },
      "source": [
        "XGB params for best accuracy are below"
      ]
    },
    {
      "cell_type": "code",
      "metadata": {
        "colab": {
          "base_uri": "https://localhost:8080/"
        },
        "id": "qWJq01Hgz62r",
        "outputId": "1cb5c38b-ab05-4296-ce72-cec693e032e5"
      },
      "source": [
        "xgb_hyperparams"
      ],
      "execution_count": null,
      "outputs": [
        {
          "output_type": "execute_result",
          "data": {
            "text/plain": [
              "{'colsample_bytree': 0.6000000000000001,\n",
              " 'learning_rate': 0.1,\n",
              " 'max_depth': 12,\n",
              " 'min_child_weight': 1,\n",
              " 'n_estimators': 200,\n",
              " 'subsample': 0.8988925322801917}"
            ]
          },
          "metadata": {
            "tags": []
          },
          "execution_count": 27
        }
      ]
    },
    {
      "cell_type": "code",
      "metadata": {
        "colab": {
          "base_uri": "https://localhost:8080/",
          "height": 223
        },
        "id": "OJ-R2Sbh0Tb5",
        "outputId": "118694dd-9ecd-4ed2-df42-53169a7056f1"
      },
      "source": [
        "xgb_params = {'learning_rate'   : hp.choice('learning_rate',np.arange(0.05, 0.31, 0.05)),\n",
        "              'max_depth'       : hp.choice('max_depth', np.arange(1, 16, 1, dtype=int)),\n",
        "              'min_child_weight': hp.choice('min_child_weight', np.arange(1, 8, 1, dtype=int)),\n",
        "              'colsample_bytree': hp.choice('colsample_bytree', np.arange(0.3, 1.0, 0.1)),\n",
        "              'subsample':        hp.uniform('subsample', 0.8, 1),\n",
        "              'n_estimators':     hp.choice('n_estimators', np.arange(100, 500, 100, dtype=int))}\n",
        "\n",
        "def xgb_objective_func(params,X_Data,Y_Data):\n",
        "    model = XGBClassifier(**params)\n",
        "    CV_pred = cross_val_predict(model,X_Data,Y_Data, cv=StratifiedKFold(n_splits=5),method='predict')\n",
        "    #accuracy = metrics.accuracy_score(Y_Data, CV_pred)\n",
        "    recall = metrics.recall_score(Y_Data, CV_pred)\n",
        "    return -1*recall\n",
        "\n",
        "fmin_objective = partial(xgb_objective_func,X_Data= X_train,Y_Data = Y_train)\n",
        "\n",
        "xgb_tpe_best = fmin(fn=fmin_objective,\n",
        "                space=xgb_params,\n",
        "                algo=tpe.suggest,\n",
        "                trials=Trials(),\n",
        "                max_evals=50 )\n",
        "\n",
        "xgb_hyperparams = space_eval(xgb_params, xgb_tpe_best)\n",
        "\n",
        "xgb_model = XGBClassifier(**xgb_hyperparams)\n",
        "\n",
        "xgb_model.fit(X_train,Y_train)\n",
        "\n",
        "xgb_report = pd.DataFrame(metrics.classification_report(Y_test, xgb_model.predict(X_test),output_dict=True)).T.reset_index().rename(columns = {'index':'Outcome'})\n",
        "xgb_report"
      ],
      "execution_count": null,
      "outputs": [
        {
          "output_type": "stream",
          "text": [
            "100%|██████████| 50/50 [00:23<00:00,  2.14it/s, best loss: -0.9859649122807017]\n"
          ],
          "name": "stdout"
        },
        {
          "output_type": "execute_result",
          "data": {
            "text/html": [
              "<div>\n",
              "<style scoped>\n",
              "    .dataframe tbody tr th:only-of-type {\n",
              "        vertical-align: middle;\n",
              "    }\n",
              "\n",
              "    .dataframe tbody tr th {\n",
              "        vertical-align: top;\n",
              "    }\n",
              "\n",
              "    .dataframe thead th {\n",
              "        text-align: right;\n",
              "    }\n",
              "</style>\n",
              "<table border=\"1\" class=\"dataframe\">\n",
              "  <thead>\n",
              "    <tr style=\"text-align: right;\">\n",
              "      <th></th>\n",
              "      <th>Outcome</th>\n",
              "      <th>precision</th>\n",
              "      <th>recall</th>\n",
              "      <th>f1-score</th>\n",
              "      <th>support</th>\n",
              "    </tr>\n",
              "  </thead>\n",
              "  <tbody>\n",
              "    <tr>\n",
              "      <th>0</th>\n",
              "      <td>0</td>\n",
              "      <td>0.930233</td>\n",
              "      <td>0.952381</td>\n",
              "      <td>0.941176</td>\n",
              "      <td>42.00000</td>\n",
              "    </tr>\n",
              "    <tr>\n",
              "      <th>1</th>\n",
              "      <td>1</td>\n",
              "      <td>0.971831</td>\n",
              "      <td>0.958333</td>\n",
              "      <td>0.965035</td>\n",
              "      <td>72.00000</td>\n",
              "    </tr>\n",
              "    <tr>\n",
              "      <th>2</th>\n",
              "      <td>accuracy</td>\n",
              "      <td>0.956140</td>\n",
              "      <td>0.956140</td>\n",
              "      <td>0.956140</td>\n",
              "      <td>0.95614</td>\n",
              "    </tr>\n",
              "    <tr>\n",
              "      <th>3</th>\n",
              "      <td>macro avg</td>\n",
              "      <td>0.951032</td>\n",
              "      <td>0.955357</td>\n",
              "      <td>0.953106</td>\n",
              "      <td>114.00000</td>\n",
              "    </tr>\n",
              "    <tr>\n",
              "      <th>4</th>\n",
              "      <td>weighted avg</td>\n",
              "      <td>0.956505</td>\n",
              "      <td>0.956140</td>\n",
              "      <td>0.956245</td>\n",
              "      <td>114.00000</td>\n",
              "    </tr>\n",
              "  </tbody>\n",
              "</table>\n",
              "</div>"
            ],
            "text/plain": [
              "        Outcome  precision    recall  f1-score    support\n",
              "0             0   0.930233  0.952381  0.941176   42.00000\n",
              "1             1   0.971831  0.958333  0.965035   72.00000\n",
              "2      accuracy   0.956140  0.956140  0.956140    0.95614\n",
              "3     macro avg   0.951032  0.955357  0.953106  114.00000\n",
              "4  weighted avg   0.956505  0.956140  0.956245  114.00000"
            ]
          },
          "metadata": {
            "tags": []
          },
          "execution_count": 29
        }
      ]
    },
    {
      "cell_type": "code",
      "metadata": {
        "id": "MINw9QX10uL8"
      },
      "source": [
        ""
      ],
      "execution_count": null,
      "outputs": []
    }
  ]
}